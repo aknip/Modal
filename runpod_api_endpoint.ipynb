{
  "nbformat": 4,
  "nbformat_minor": 0,
  "metadata": {
    "colab": {
      "provenance": [],
      "mount_file_id": "1GR4CBhwEVfzZHIOk6SZsCP6vFs0yjYWp",
      "authorship_tag": "ABX9TyMS3xK+wLFOWtjvNRsNT4Sr",
      "include_colab_link": true
    },
    "kernelspec": {
      "name": "python3",
      "display_name": "Python 3"
    },
    "language_info": {
      "name": "python"
    }
  },
  "cells": [
    {
      "cell_type": "markdown",
      "metadata": {
        "id": "view-in-github",
        "colab_type": "text"
      },
      "source": [
        "<a href=\"https://colab.research.google.com/github/aknip/Modal/blob/main/runpod_api_endpoint.ipynb\" target=\"_parent\"><img src=\"https://colab.research.google.com/assets/colab-badge.svg\" alt=\"Open In Colab\"/></a>"
      ]
    },
    {
      "cell_type": "markdown",
      "source": [
        "# Dev in Notebook, Deployment to RunPod\n",
        "\n",
        "This notebook shows\n",
        "\n",
        "Code blocks wich are needed for the final .py-file (for Modal.com) are marked with `#|export`\n",
        "\n",
        "Sources:  \n",
        "- https://blog.runpod.io/serverless-create-a-basic-api/\n"
      ],
      "metadata": {
        "id": "u7aFXzti5Okh"
      }
    },
    {
      "cell_type": "markdown",
      "source": [],
      "metadata": {
        "id": "WH_SMPZE63vx"
      }
    },
    {
      "cell_type": "code",
      "source": [
        "import psutil\n",
        "IN_NOTEBOOK = any([\"jupyter-notebook\" in i for i in psutil.Process().parent().cmdline()])"
      ],
      "metadata": {
        "id": "HBQ9fzwbCTrr"
      },
      "execution_count": 1,
      "outputs": []
    },
    {
      "cell_type": "code",
      "execution_count": 16,
      "metadata": {
        "id": "uzJ0fadPQW5V"
      },
      "outputs": [],
      "source": [
        "%%capture --no-stderr\n",
        "!pip install runpod docker -q"
      ]
    },
    {
      "cell_type": "markdown",
      "source": [
        "# Part 1: RunPod App (init)\n",
        "\n"
      ],
      "metadata": {
        "id": "NoeifUOQ2GHu"
      }
    },
    {
      "cell_type": "code",
      "source": [
        "# %%writefile whatever.py\n",
        "import runpod\n",
        "\n",
        "def is_even(job):\n",
        "\n",
        "    job_input = job[\"input\"]\n",
        "    the_number = job_input[\"number\"]\n",
        "\n",
        "    if not isinstance(the_number, int):\n",
        "        return {\"error\": \"Silly human, you need to pass an integer.\"}\n",
        "\n",
        "    if the_number % 2 == 0:\n",
        "        return True\n",
        "\n",
        "    return False\n",
        "\n",
        "runpod.serverless.start({\"handler\": is_even})"
      ],
      "metadata": {
        "id": "jNSyayVbS4NB"
      },
      "execution_count": null,
      "outputs": []
    },
    {
      "cell_type": "code",
      "source": [
        "print(is_even({\"input\": {\"number\": 2}}))\n"
      ],
      "metadata": {
        "id": "RHTjG_Q4Tc1y",
        "outputId": "39d9bc8f-ac3e-43f1-97ee-7bba8e5767e8",
        "colab": {
          "base_uri": "https://localhost:8080/"
        }
      },
      "execution_count": 11,
      "outputs": [
        {
          "output_type": "stream",
          "name": "stdout",
          "text": [
            "True\n"
          ]
        }
      ]
    },
    {
      "cell_type": "code",
      "source": [
        "# %%writefile test_input.json\n",
        "{\n",
        "    \"input\": {\n",
        "        \"number\": 2\n",
        "    }\n",
        "}"
      ],
      "metadata": {
        "id": "qjKOhhHyTMFq",
        "outputId": "b0b5c2c0-cb55-425d-9b5a-d8ca92b7f8ba",
        "colab": {
          "base_uri": "https://localhost:8080/"
        }
      },
      "execution_count": 4,
      "outputs": [
        {
          "output_type": "stream",
          "name": "stdout",
          "text": [
            "Writing test_input.json\n"
          ]
        }
      ]
    },
    {
      "cell_type": "code",
      "source": [
        "!python3 whatever.py"
      ],
      "metadata": {
        "id": "aBkGssoNUGJB",
        "outputId": "29adab18-ccea-4018-8672-705722a0a456",
        "colab": {
          "base_uri": "https://localhost:8080/"
        }
      },
      "execution_count": 14,
      "outputs": [
        {
          "output_type": "stream",
          "name": "stdout",
          "text": [
            "--- Starting Serverless Worker |  Version 1.3.3 ---\n",
            "INFO   | Using test_input.json as job input.\n",
            "DEBUG  | Retrieved local job: {'input': {'number': 2}, 'id': 'local_test'}\n",
            "INFO   | local_test | Started\n",
            "DEBUG  | local_test | Handler output: True\n",
            "DEBUG  | local_test | run_job return: {'output': True}\n",
            "INFO   | Job local_test completed successfully.\n",
            "INFO   | Job result: {'output': True}\n",
            "INFO   | Local testing complete, exiting.\n"
          ]
        }
      ]
    },
    {
      "cell_type": "code",
      "source": [
        "# %%writefile Dockerfile\n",
        "# Include Python\n",
        "from python:3.11.1-buster\n",
        "\n",
        "# Define your working directory\n",
        "WORKDIR /\n",
        "\n",
        "# Install runpod\n",
        "RUN pip install runpod\n",
        "\n",
        "# Add your file\n",
        "ADD whatever.py .\n",
        "\n",
        "# Call your file when your container starts\n",
        "CMD [ \"python\", \"-u\", \"/whatever.py\" ]"
      ],
      "metadata": {
        "id": "233MiJIZUT35",
        "outputId": "3fd54381-8aa1-46cc-e25f-18f2cf6e5148",
        "colab": {
          "base_uri": "https://localhost:8080/"
        }
      },
      "execution_count": 15,
      "outputs": [
        {
          "output_type": "stream",
          "name": "stdout",
          "text": [
            "Writing Dockerfile\n"
          ]
        }
      ]
    },
    {
      "cell_type": "code",
      "source": [
        "!docker build . --tag=repo/name"
      ],
      "metadata": {
        "id": "G5u8MkRkU44z",
        "outputId": "414edc9d-ed58-4ca6-aca7-dcc480e41ec6",
        "colab": {
          "base_uri": "https://localhost:8080/"
        }
      },
      "execution_count": 17,
      "outputs": [
        {
          "output_type": "stream",
          "name": "stdout",
          "text": [
            "/bin/bash: line 1: docker: command not found\n"
          ]
        }
      ]
    },
    {
      "cell_type": "code",
      "source": [
        "#|export\n",
        "\n"
      ],
      "metadata": {
        "id": "DhQ9VQ1qRnvi"
      },
      "execution_count": null,
      "outputs": []
    },
    {
      "cell_type": "markdown",
      "source": [
        "# Export production file for Modal with nbdev\n",
        "\n",
        "The notebook file will be copied from Google drive to the current notebook environment.\n",
        "\n",
        "Alternative?: %notebook modal_hello_world2.ipynb"
      ],
      "metadata": {
        "id": "NRQoSKU51v6o"
      }
    },
    {
      "cell_type": "code",
      "source": [
        "# Connect Google Drive\n",
        "# This and the following cell can be skipped it the notebook file is copied manually to the current notebook environment\n",
        "from google.colab import drive\n",
        "drive.mount('/content/drive/')"
      ],
      "metadata": {
        "id": "RI3oYbrHwxtc"
      },
      "execution_count": null,
      "outputs": []
    },
    {
      "cell_type": "code",
      "source": [
        "# Copy Notebook to local path\n",
        "!cp \"/content/drive/MyDrive/Colab Notebooks/modal-gradio.ipynb\" /content/"
      ],
      "metadata": {
        "id": "KF3b5UaVyi8B"
      },
      "execution_count": null,
      "outputs": []
    },
    {
      "cell_type": "code",
      "source": [
        "# Export source code marked with #|export\n",
        "from nbdev.export import nb_export\n",
        "nb_export('/content/modal-gradio.ipynb', lib_path='.', name='gradio_modal')"
      ],
      "metadata": {
        "id": "TqPqsbyv7X5Z"
      },
      "execution_count": null,
      "outputs": []
    },
    {
      "cell_type": "markdown",
      "source": [
        "# Run in Modal"
      ],
      "metadata": {
        "id": "nKaBR3-_7qWq"
      }
    },
    {
      "cell_type": "code",
      "source": [
        "# dev server\n",
        "!modal serve gradio_modal.py"
      ],
      "metadata": {
        "id": "1X3slh4n3xGN"
      },
      "execution_count": null,
      "outputs": []
    },
    {
      "cell_type": "code",
      "source": [
        "# Deploy server permanently\n",
        "!modal deploy gradio_modal.py"
      ],
      "metadata": {
        "id": "fn2ufbIe47vc"
      },
      "execution_count": null,
      "outputs": []
    },
    {
      "cell_type": "markdown",
      "source": [
        "# Idea: Modify exported code if necessary"
      ],
      "metadata": {
        "id": "5rju_YdU36Fr"
      }
    },
    {
      "cell_type": "code",
      "source": [
        "# Optimize exported source code\n",
        "# Creates a backup file automatically\n",
        "import io\n",
        "import os\n",
        "from datetime import datetime\n",
        "\n",
        "# load\n",
        "f= open('example.py','r')\n",
        "if f.mode == 'r':\n",
        "      source_code =f.read()\n",
        "      #print(source_code)\n",
        "f.close()\n",
        "\n",
        "# modifiy code\n",
        "source_code = source_code.replace(\"#stub\", \"stub\")\n",
        "source_code = source_code.replace(\"#@stub\", \"@stub\")\n",
        "source_code = source_code + \"\\nTest\"\n",
        "\n",
        "# save\n",
        "current_date_time = datetime.now().strftime(\"_%Y-%m-%d_%H-%M-%S\")\n",
        "os.rename('example.py', 'example' + current_date_time + '.py')\n",
        "f= open('example.py','w+')\n",
        "f.write(source_code)\n",
        "f.close()"
      ],
      "metadata": {
        "id": "nZD3qkajzvUf"
      },
      "execution_count": null,
      "outputs": []
    }
  ]
}