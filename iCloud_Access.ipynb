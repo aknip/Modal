{
  "nbformat": 4,
  "nbformat_minor": 0,
  "metadata": {
    "colab": {
      "provenance": [],
      "mount_file_id": "1GR4CBhwEVfzZHIOk6SZsCP6vFs0yjYWp",
      "authorship_tag": "ABX9TyNXISk21nFyIeWqfkLoIj57",
      "include_colab_link": true
    },
    "kernelspec": {
      "name": "python3",
      "display_name": "Python 3"
    },
    "language_info": {
      "name": "python"
    }
  },
  "cells": [
    {
      "cell_type": "markdown",
      "metadata": {
        "id": "view-in-github",
        "colab_type": "text"
      },
      "source": [
        "<a href=\"https://colab.research.google.com/github/aknip/Modal/blob/main/iCloud_Access.ipynb\" target=\"_parent\"><img src=\"https://colab.research.google.com/assets/colab-badge.svg\" alt=\"Open In Colab\"/></a>"
      ]
    },
    {
      "cell_type": "markdown",
      "source": [
        "# iCloud Access\n",
        "\n",
        "\n",
        "The app then can be automatically deployed to Modal.com.\n",
        "- Export Notebook to .py-file automatically (via nbdev)\n",
        "- Serve or deploy .py-file to Modal.com automatically\n",
        "\n",
        "Code blocks wich are needed for the final .py-file (for Modal.com) are marked with `#|export`\n",
        "\n",
        "Sources:  \n"
      ],
      "metadata": {
        "id": "u7aFXzti5Okh"
      }
    },
    {
      "cell_type": "code",
      "source": [
        "import psutil\n",
        "IN_NOTEBOOK = any([\"jupyter-notebook\" in i for i in psutil.Process().parent().cmdline()])"
      ],
      "metadata": {
        "id": "HBQ9fzwbCTrr"
      },
      "execution_count": 1,
      "outputs": []
    },
    {
      "cell_type": "code",
      "execution_count": 2,
      "metadata": {
        "id": "uzJ0fadPQW5V"
      },
      "outputs": [],
      "source": [
        "%%capture --no-stderr\n",
        "!pip install modal nbdev -q"
      ]
    },
    {
      "cell_type": "code",
      "source": [
        "import json\n",
        "import os\n",
        "from getpass import getpass\n",
        "if IN_NOTEBOOK:\n",
        "  CREDS = json.loads(getpass(\"Secrets (JSON string): \"))\n",
        "  os.environ['CREDS'] = json.dumps(CREDS)\n",
        "  CREDS = json.loads(os.getenv('CREDS'))"
      ],
      "metadata": {
        "id": "D94_wG68CccK",
        "colab": {
          "base_uri": "https://localhost:8080/"
        },
        "outputId": "50f85e91-b841-4275-9ac0-b16745842b78"
      },
      "execution_count": 3,
      "outputs": [
        {
          "name": "stdout",
          "output_type": "stream",
          "text": [
            "Secrets (JSON string): ··········\n"
          ]
        }
      ]
    },
    {
      "cell_type": "code",
      "source": [
        "import os\n",
        "os.environ[\"MODAL_TOKEN_ID\"] = CREDS['MODAL']['MODAL_TOKEN_ID']['credential']\n",
        "os.environ[\"MODAL_TOKEN_SECRET\"] = CREDS['MODAL']['MODAL_TOKEN_SECRET']['credential']"
      ],
      "metadata": {
        "id": "E9abYug6TRcR"
      },
      "execution_count": 4,
      "outputs": []
    },
    {
      "cell_type": "markdown",
      "source": [
        "# Web Endpoint Test"
      ],
      "metadata": {
        "id": "XU6gtOmzmct1"
      }
    },
    {
      "cell_type": "code",
      "source": [
        "# uncomment following line to export\n",
        "# %%writefile web_endpoint_test.py\n",
        "\n",
        "from typing import Dict\n",
        "\n",
        "from modal import Stub, web_endpoint\n",
        "\n",
        "stub = Stub()\n",
        "\n",
        "@stub.function()\n",
        "@web_endpoint(method=\"POST\")\n",
        "def square(item: Dict):\n",
        "    return {\"square\": item['x']**2}"
      ],
      "metadata": {
        "colab": {
          "base_uri": "https://localhost:8080/"
        },
        "id": "jBsmaI_2me0Z",
        "outputId": "c9b84cd6-aeb3-4533-9219-77b3e939c469"
      },
      "execution_count": 5,
      "outputs": [
        {
          "output_type": "stream",
          "name": "stdout",
          "text": [
            "Writing web_endpoint_test.py\n"
          ]
        }
      ]
    },
    {
      "cell_type": "code",
      "source": [
        "!modal serve web_endpoint_test.py"
      ],
      "metadata": {
        "id": "JlpEzSWgm9eA"
      },
      "execution_count": null,
      "outputs": []
    },
    {
      "cell_type": "markdown",
      "source": [
        "### Check URL in Browser\n",
        "https://xxx.dev.modal.run\n",
        "\n",
        "### Send POST via Terminal\n",
        "```\n",
        "curl -X 'POST' \\\n",
        "  'https://xxx.dev.modal.run/' \\\n",
        "  -H 'accept: application/json' \\\n",
        "  -H 'Content-Type: application/json' \\\n",
        "  -d '{\n",
        "    \"x\": 42\n",
        "}'\n",
        "```"
      ],
      "metadata": {
        "id": "RZZxv1nZnA3j"
      }
    }
  ]
}