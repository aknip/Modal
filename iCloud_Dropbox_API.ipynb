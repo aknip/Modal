{
  "nbformat": 4,
  "nbformat_minor": 0,
  "metadata": {
    "colab": {
      "provenance": [],
      "mount_file_id": "1GR4CBhwEVfzZHIOk6SZsCP6vFs0yjYWp",
      "authorship_tag": "ABX9TyNEBhTeEpBx+GbkFk+SFOBz",
      "include_colab_link": true
    },
    "kernelspec": {
      "name": "python3",
      "display_name": "Python 3"
    },
    "language_info": {
      "name": "python"
    }
  },
  "cells": [
    {
      "cell_type": "markdown",
      "metadata": {
        "id": "view-in-github",
        "colab_type": "text"
      },
      "source": [
        "<a href=\"https://colab.research.google.com/github/aknip/Modal/blob/main/iCloud_Access.ipynb\" target=\"_parent\"><img src=\"https://colab.research.google.com/assets/colab-badge.svg\" alt=\"Open In Colab\"/></a>"
      ]
    },
    {
      "cell_type": "markdown",
      "source": [
        "# iCloud Access\n",
        "\n",
        "\n",
        "see https://github.com/picklepete/pyicloud\n"
      ],
      "metadata": {
        "id": "u7aFXzti5Okh"
      }
    },
    {
      "cell_type": "code",
      "source": [
        "import json\n",
        "import os\n",
        "from getpass import getpass\n",
        "import psutil\n",
        "IN_NOTEBOOK = any([\"jupyter-notebook\" in i for i in psutil.Process().parent().cmdline()])\n",
        "if IN_NOTEBOOK:\n",
        "  CREDS = json.loads(getpass(\"Secrets (JSON string): \"))\n",
        "  os.environ['CREDS'] = json.dumps(CREDS)\n",
        "  CREDS = json.loads(os.getenv('CREDS'))"
      ],
      "metadata": {
        "id": "ORrDzbZnDlYS"
      },
      "execution_count": null,
      "outputs": []
    },
    {
      "cell_type": "code",
      "source": [
        "test = CREDS['xxx']['v1']['credential']"
      ],
      "metadata": {
        "id": "vb1_H-kFDqUZ"
      },
      "execution_count": null,
      "outputs": []
    },
    {
      "cell_type": "code",
      "execution_count": null,
      "metadata": {
        "id": "uzJ0fadPQW5V"
      },
      "outputs": [],
      "source": [
        "%%capture --no-stderr\n",
        "!pip install modal nbdev pyicloud dropbox -q"
      ]
    },
    {
      "cell_type": "markdown",
      "source": [
        "# iCloud\n",
        "\n",
        "- change email and pw in line 2\n",
        "- works and tested with 2-factor-auth"
      ],
      "metadata": {
        "id": "B_JLYejjrcDd"
      }
    },
    {
      "cell_type": "code",
      "source": [
        "from pyicloud import PyiCloudService\n",
        "api = PyiCloudService('name', 'pw')\n",
        "if api.requires_2fa:\n",
        "    print(\"Two-factor authentication required.\")\n",
        "    code = input(\"Enter the code you received of one of your approved devices: \")\n",
        "    result = api.validate_2fa_code(code)\n",
        "    print(\"Code validation result: %s\" % result)\n",
        "\n",
        "    if not result:\n",
        "        print(\"Failed to verify security code\")\n",
        "        sys.exit(1)\n",
        "\n",
        "    if not api.is_trusted_session:\n",
        "        print(\"Session is not trusted. Requesting trust...\")\n",
        "        result = api.trust_session()\n",
        "        print(\"Session trust result %s\" % result)\n",
        "\n",
        "        if not result:\n",
        "            print(\"Failed to request trust. You will likely be prompted for the code again in the coming weeks\")\n",
        "elif api.requires_2sa:\n",
        "    import click\n",
        "    print(\"Two-step authentication required. Your trusted devices are:\")\n",
        "\n",
        "    devices = api.trusted_devices\n",
        "    for i, device in enumerate(devices):\n",
        "        print(\n",
        "            \"  %s: %s\" % (i, device.get('deviceName',\n",
        "            \"SMS to %s\" % device.get('phoneNumber')))\n",
        "        )\n",
        "\n",
        "    device = click.prompt('Which device would you like to use?', default=0)\n",
        "    device = devices[device]\n",
        "    if not api.send_verification_code(device):\n",
        "        print(\"Failed to send verification code\")\n",
        "        sys.exit(1)\n",
        "\n",
        "    code = click.prompt('Please enter validation code')\n",
        "    if not api.validate_verification_code(device, code):\n",
        "        print(\"Failed to verify verification code\")\n",
        "        sys.exit(1)"
      ],
      "metadata": {
        "id": "aB88cRhOvRsN"
      },
      "execution_count": null,
      "outputs": []
    },
    {
      "cell_type": "code",
      "source": [
        "# this does not work? Throws error\n",
        "# test = api.files()"
      ],
      "metadata": {
        "id": "Z6UTCUdrsFJB"
      },
      "execution_count": null,
      "outputs": []
    },
    {
      "cell_type": "code",
      "source": [
        "# this works!\n",
        "my_devices = api.devices\n",
        "my_dir = api.drive.dir()\n",
        "print(my_devices)\n",
        "print(my_dir)"
      ],
      "metadata": {
        "id": "plm41KW9v8jr"
      },
      "execution_count": null,
      "outputs": []
    },
    {
      "cell_type": "code",
      "source": [
        "# this works!\n",
        "drive_file = api.drive['Calibre Library']['Alfons Schmid']['Notebooks App - Handbook (2678)']['Notebooks App - Handbook - Alfons Schmid.pdf']\n",
        "print(drive_file.date_modified)\n",
        "# copy to local dir\n",
        "from shutil import copyfileobj\n",
        "with drive_file.open(stream=True) as response:\n",
        "    with open(drive_file.name, 'wb') as file_out:\n",
        "        copyfileobj(response.raw, file_out)"
      ],
      "metadata": {
        "id": "t5nQHP9ErWCb"
      },
      "execution_count": null,
      "outputs": []
    },
    {
      "cell_type": "markdown",
      "source": [
        "# Dropbox\n",
        "\n",
        "- Example from SDK:\n",
        "  - https://github.com/dropbox/dropbox-sdk-python/tree/main/example/back-up-and-restore\n",
        "- Alternatives / additional frameworks:\n",
        "  - https://pycad.co/dropbox-automations/"
      ],
      "metadata": {
        "id": "Yl2TcuU1repZ"
      }
    },
    {
      "cell_type": "code",
      "source": [
        "# Source: https://practicaldatascience.co.uk/data-science/how-to-use-the-dropbox-api-with-python\n",
        "\n",
        "import pathlib\n",
        "import pandas as pd\n",
        "import dropbox\n",
        "from dropbox.exceptions import AuthError\n",
        "DROPBOX_ACCESS_TOKEN = ''\n",
        "\n",
        "def dropbox_connect():\n",
        "    \"\"\"Create a connection to Dropbox.\"\"\"\n",
        "\n",
        "    try:\n",
        "        dbx = dropbox.Dropbox(DROPBOX_ACCESS_TOKEN)\n",
        "    except AuthError as e:\n",
        "        print('Error connecting to Dropbox with access token: ' + str(e))\n",
        "    return dbx\n",
        "\n",
        "def dropbox_list_files(path):\n",
        "    #Return a Pandas dataframe of files in a given Dropbox folder path in the Apps directory.\n",
        "    dbx = dropbox_connect()\n",
        "    try:\n",
        "        files = dbx.files_list_folder(path).entries\n",
        "        files_list = []\n",
        "        for file in files:\n",
        "            if isinstance(file, dropbox.files.FileMetadata):\n",
        "                metadata = {\n",
        "                    'name': file.name,\n",
        "                    #'path_display': file.path_display,\n",
        "                    #'client_modified': file.client_modified,\n",
        "                    'server_modified': file.server_modified\n",
        "                }\n",
        "                files_list.append(metadata)\n",
        "\n",
        "        df = pd.DataFrame.from_records(files_list)\n",
        "        #return df\n",
        "        return df.sort_values(by='server_modified', ascending=False)\n",
        "\n",
        "    except Exception as e:\n",
        "        print('Error getting list of files from Dropbox: ' + str(e))\n",
        "\n",
        "def dropbox_list_files_recursively(path):\n",
        "    #Return a Pandas dataframe of files in a given Dropbox folder path in the Apps directory.\n",
        "    dbx = dropbox_connect()\n",
        "    try:\n",
        "        files = dbx.files_list_folder(path, recursive=True)\n",
        "        files_entries = files.entries\n",
        "\n",
        "        # statt .path_display alternativ auch .name\n",
        "        list_of_folders = [x.path_display for x in files_entries if 'size' not in dir(x)]\n",
        "        list_of_files_and_folders = [x.path_display for x in files_entries]\n",
        "        return list_of_folders, list_of_files_and_folders\n",
        "\n",
        "    except Exception as e:\n",
        "        print('Error getting list of files from Dropbox: ' + str(e))"
      ],
      "metadata": {
        "id": "sYdFhKYgtqV3"
      },
      "execution_count": null,
      "outputs": []
    },
    {
      "cell_type": "code",
      "source": [
        "result = dropbox_list_files_recursively('')\n",
        "print(json.dumps(result[0], sort_keys=True, indent=2))\n",
        "print()\n",
        "print(json.dumps(result[1], sort_keys=True, indent=2))"
      ],
      "metadata": {
        "id": "gEFM8QpF_onk"
      },
      "execution_count": null,
      "outputs": []
    },
    {
      "cell_type": "code",
      "source": [
        "result = dropbox_list_files('/boox pdfs/Readme/')\n",
        "print(result)"
      ],
      "metadata": {
        "id": "aFIC5wSQuKnO"
      },
      "execution_count": null,
      "outputs": []
    },
    {
      "cell_type": "code",
      "source": [],
      "metadata": {
        "id": "CYTwVpKpv_mv"
      },
      "execution_count": null,
      "outputs": []
    }
  ]
}
